{
 "cells": [
  {
   "cell_type": "markdown",
   "id": "facfafbf-8b5d-47ec-9534-ab4e3f4697bb",
   "metadata": {},
   "source": [
    "# Wind Analysis\n",
    "\n",
    "This notebook outlines a good example of getting started for the wind analysis. It demonstrates a couple of new, powerful tools and an example of the processing and plotting.\n",
    "\n",
    "First, import the packages that we will be using. One new package we will be using is xarray. It is designed for working with oceanographic and other earth science datasets, particularly\n",
    "netCDF, HDF5 (common in satellite/NASA products), and other multi-dimensional data.\n",
    "It will also introduce matplotlib, a basic plotting library that produces nice looking graphs and figures"
   ]
  },
  {
   "cell_type": "code",
   "execution_count": null,
   "id": "6a091ce6-3aa8-4058-82c7-2aee0f6592d2",
   "metadata": {
    "tags": []
   },
   "outputs": [],
   "source": [
    "import os, glob, re\n",
    "import numpy as np\n",
    "import pandas as pd\n",
    "import xarray as xr\n",
    "from  parse_wind_modules import parse_module\n",
    "\n",
    "import matplotlib.pyplot as plt\n",
    "# This is so figures will display in the notebook without an explicit disp(figure)\n",
    "%matplotlib inline"
   ]
  },
  {
   "cell_type": "markdown",
   "id": "5bc046b5-027e-49b6-a722-ce5d0a3c9151",
   "metadata": {},
   "source": [
    "### List of all the available .mat datasets\n",
    "These datasets are the MatLab .mat files that have been parsed from the wind sensor's .DAT binary file using the matlab function decode_"
   ]
  },
  {
   "cell_type": "code",
   "execution_count": null,
   "id": "ccd2fbb5-ceeb-463d-871e-31bc1aeb4403",
   "metadata": {},
   "outputs": [],
   "source": [
    "mat_files = sorted(glob.glob('../data/modules/**/*.mat', recursive=True))\n",
    "mat_files[0:5]"
   ]
  },
  {
   "cell_type": "code",
   "execution_count": null,
   "id": "be8fe68e-1f45-4d5b-84f7-b51bd61e309a",
   "metadata": {},
   "outputs": [],
   "source": [
    "k = 60\n",
    "filepath = mat_files[k]\n",
    "print(filepath)"
   ]
  },
  {
   "cell_type": "markdown",
   "id": "81f332ae-1f80-4eca-bf79-ad699fffa475",
   "metadata": {},
   "source": [
    "### Get the deployment dates\n",
    "Next, we need to get the deployment dates of the cruise, because the flash cards aren't always reformatted so you can have data from previous or following cruises"
   ]
  },
  {
   "cell_type": "code",
   "execution_count": null,
   "id": "3df44df6-bb65-49a1-bc8a-30d0cc80f4da",
   "metadata": {},
   "outputs": [],
   "source": [
    "def get_deployment_info(array, node, deployment):\n",
    "    deployment_csv = pd.read_csv(f\"C:/Users/areed/Documents/OOI/oceanobservatories/ooicgsn-asset-management/deployment/{array}_Deploy.csv\")\n",
    "    mask = deployment_csv[\"deploymentNumber\"] == int(deployment)\n",
    "    deployment_csv = deployment_csv[mask]\n",
    "    mask = deployment_csv[\"sensor.uid\"].apply(lambda x: True if \"WND\" in str(x) else False)\n",
    "    deployment_csv = deployment_csv[mask]\n",
    "    if node == \"DCL12\":\n",
    "        mask = deployment_csv[\"Reference Designator\"].apply(lambda x: True if \"SBD12\" in x else False)\n",
    "    elif node == \"DCL11\":\n",
    "        mask = deployment_csv[\"Reference Designator\"].apply(lambda x: True if \"SBD11\" in x else False)\n",
    "    else:\n",
    "        pass\n",
    "    deployment_csv = deployment_csv[mask]\n",
    "    startDateTime = deployment_csv[\"startDateTime\"].values[0]\n",
    "    stopDateTime = deployment_csv[\"stopDateTime\"].values[0]\n",
    "    return startDateTime, stopDateTime"
   ]
  },
  {
   "cell_type": "code",
   "execution_count": null,
   "id": "c228eab8-e1d1-44fc-a452-8cde1e38e481",
   "metadata": {},
   "outputs": [],
   "source": [
    "array = re.search('[A-Z]{2}[0-9]{2}[A-Z]{4}', filepath).group()\n",
    "node = re.search('[a-z]{3}[1-2]{2}', filepath).group().upper()\n",
    "deployment = re.search('[A-Z]{1}[0-9]{5}', filepath).group()[1:].lstrip(\"0\")\n",
    "array, node, deployment"
   ]
  },
  {
   "cell_type": "code",
   "execution_count": null,
   "id": "7f704aab-62a6-4153-ad67-6a21994da269",
   "metadata": {},
   "outputs": [],
   "source": [
    "t1, t2 = get_deployment_info(array, node, deployment)\n",
    "t1, t2"
   ]
  },
  {
   "cell_type": "markdown",
   "id": "63fb5d19-fec5-4a5f-91df-dbd09b179582",
   "metadata": {},
   "source": [
    "### Parse the .mat to a .nc file\n",
    "Next, we parse the .mat file into a .nc file and save the .nc file to the same location"
   ]
  },
  {
   "cell_type": "code",
   "execution_count": null,
   "id": "16a9536b-5361-41cc-846d-1eb1dc2434f7",
   "metadata": {},
   "outputs": [],
   "source": [
    "nc_data = parse_module(filepath)\n",
    "nc_data"
   ]
  },
  {
   "cell_type": "markdown",
   "id": "ab60dcc2-e5b6-4771-9f45-a3835c5ab0b0",
   "metadata": {},
   "source": [
    "#### Save the netCDF file"
   ]
  },
  {
   "cell_type": "code",
   "execution_count": null,
   "id": "50fdeadb-4929-4c4f-af4b-dde90c2b845a",
   "metadata": {},
   "outputs": [],
   "source": [
    "nc_filepath = filepath.replace('.mat','.nc')\n",
    "print(nc_filepath)\n",
    "nc_data.to_netcdf(nc_filepath, format='netcdf4', engine='h5netcdf')"
   ]
  },
  {
   "cell_type": "markdown",
   "id": "c08ae202-fd8f-429e-ac58-1532e6b3c1f3",
   "metadata": {},
   "source": [
    "### Process the module data\n",
    "Next, we're going to process and plot the loaded and parsed data"
   ]
  },
  {
   "cell_type": "code",
   "execution_count": null,
   "id": "7689457b-e75b-4ca0-b5b6-a9241fe558f5",
   "metadata": {},
   "outputs": [],
   "source": [
    "# Filter out the time for the dataset\n",
    "nc_data = nc_data.sel(time=slice(t1, t2))\n",
    "nc_data"
   ]
  },
  {
   "cell_type": "markdown",
   "id": "cb99e718-a36f-4375-a54a-c9ddf5eb6b3b",
   "metadata": {},
   "source": [
    "Notice that the dataset has the following \"catgories\": **Dimensions**, **Coordinates**, **Data variables**, **Indexes**, and **Attributes**. You can read about what each of the categories means in the [xarray documentation](https://docs.xarray.dev/en/stable/user-guide/terminology.html).\n",
    "\n",
    "In order to reproduce the comparison of scalar wind speed against vector wind speed, we want to find which variables in the dataset represent those data. We can click on the ```Show/Hide Attributes``` button on the far side of each **Data variable** to read the _metadata_ about that variable and learn more about it. We can go ahead and click on _wspd_ variable and see that it is the Scalar averaged wind speed over one minute."
   ]
  },
  {
   "cell_type": "markdown",
   "id": "126f624a-9001-41ff-924a-3039629782a6",
   "metadata": {},
   "source": [
    "Similarly, we can click on the other data variable's attributes and learn that the other two variables we want are _wnde_, the East Wind vector value, and _wndn_, the North Wind vector value.\n",
    "\n",
    "There remains one more step before we can get to plotting a comparison, and that is to calculate the vector wind speed average for comparison with the scalar wind speed. If we remember Calculus, we know that:\n",
    "\n",
    "$$\n",
    "\\|{U}\\| = \\sqrt{u^{2} + v^{2}}\n",
    "$$\n",
    "\n",
    "where $\\|{U}\\|$ is the magnitude of the wind speed, $u$ is the eastward vector wind speed, and $v$ is the northward vector wind speed. So we can go ahead and calculate that:"
   ]
  },
  {
   "cell_type": "code",
   "execution_count": null,
   "id": "52c58a7f-ab0d-414f-acf3-d2c962adaae5",
   "metadata": {
    "tags": []
   },
   "outputs": [],
   "source": [
    "wvec = np.sqrt(nc_data[\"wnde\"]**2 + nc_data[\"wndn\"]**2)\n",
    "wvec"
   ]
  },
  {
   "cell_type": "markdown",
   "id": "55682e60-f17a-410f-b4b6-319f1f122249",
   "metadata": {},
   "source": [
    "And we can add the calculate vector wind speed to the dataset to make it easier to access and keep our workspace clean"
   ]
  },
  {
   "cell_type": "code",
   "execution_count": null,
   "id": "b1cacb4d-cbd4-48ff-b79a-36356a49b0ee",
   "metadata": {
    "tags": []
   },
   "outputs": [],
   "source": [
    "# Add the calculated results\n",
    "nc_data[\"wvec\"] = wvec\n",
    "# Add some metadata so we can remember what we did\n",
    "nc_data[\"wvec\"].attrs = {\n",
    "    'long_name': 'Vector Wind Speed',\n",
    "    'units': 'm/s',\n",
    "    'methodology': 'This is the magnitude of the east and north wind vectors'\n",
    "}"
   ]
  },
  {
   "cell_type": "code",
   "execution_count": null,
   "id": "6241495e-0054-4581-adad-5964808d4e07",
   "metadata": {
    "tags": []
   },
   "outputs": [],
   "source": [
    "nc_data"
   ]
  },
  {
   "cell_type": "markdown",
   "id": "0e58bfcf-a863-4c7c-b81d-f445b35ef73c",
   "metadata": {
    "tags": []
   },
   "source": [
    "Great! We now have a comparison plot. But to reproduce what is in the report, we also want to calculate the median value and standard deviation for the vector wind average based on the scalar wind speed.\n",
    "\n",
    "In order to calculate these values, we are going to make use of the powerful [```groupby```](https://docs.xarray.dev/en/latest/user-guide/groupby.html#) method, which allows you to utilize the **split-apply-combine** strategy. Our strategy is going to be:\n",
    "1. Group the dataset by the _wspd_ data. We are going to split the dataset into equally-spaced bins based on the scalar wind speed data using the ```groupby_bins``` method in ```xarray```\n",
    "2. Apply calculations to the grouped data. We want the following values:\n",
    "    * Mean of _wspd_\n",
    "    * Median of _wvec_ ($\\text{med}(U)$)\n",
    "    * Mean of _wvec_ ($\\bar{U}$)\n",
    "    * Median standard deviation (msd) of _wvec_. This is calculated as:\n",
    "$$\n",
    "\\text{msd} = \\sqrt{ \\bar{(U - \\text{med}(U))^{2}} }\n",
    "$$\n",
    "\n",
    "3. Plot the data with the binned data"
   ]
  },
  {
   "cell_type": "code",
   "execution_count": null,
   "id": "a651e1a2-d7f8-4bb4-801c-f303cda89c66",
   "metadata": {
    "tags": []
   },
   "outputs": [],
   "source": [
    "# First, create the bins we want to group the data into\n",
    "bins = np.arange(0, 31, 1)\n",
    "bins"
   ]
  },
  {
   "cell_type": "markdown",
   "id": "ed94a4d2-2086-4430-a738-c2a510435ea2",
   "metadata": {},
   "source": [
    "Now group the data into the bins we defined above"
   ]
  },
  {
   "cell_type": "code",
   "execution_count": null,
   "id": "8178e542-79a2-4050-ab74-99b578c8cea0",
   "metadata": {
    "tags": []
   },
   "outputs": [],
   "source": [
    "grouped = nc_data.groupby_bins(group='wspd', bins=bins)\n",
    "grouped"
   ]
  },
  {
   "cell_type": "markdown",
   "id": "f17b7b6d-4640-4b75-a6aa-f9f02d8b5310",
   "metadata": {},
   "source": [
    "Calculate our statistical values"
   ]
  },
  {
   "cell_type": "code",
   "execution_count": null,
   "id": "be39906f-f5c5-423c-ab4b-3e93c370cd94",
   "metadata": {
    "tags": []
   },
   "outputs": [],
   "source": [
    "# Start with mean of wspd\n",
    "wspd_avg = grouped.mean()['wspd'].dropna(dim='wspd_bins')\n",
    "\n",
    "# Next is the median of the vector wind speed\n",
    "wvec_med = grouped.median()['wvec'].dropna(dim='wspd_bins')\n",
    "\n",
    "# Finally is the mean of the vector wind speed\n",
    "wvec_avg = grouped.mean()['wvec'].dropna(dim='wspd_bins')"
   ]
  },
  {
   "cell_type": "code",
   "execution_count": null,
   "id": "d1d02982-95fe-4e03-b85c-ec8bec919c83",
   "metadata": {},
   "outputs": [],
   "source": [
    "wvec_avg"
   ]
  },
  {
   "cell_type": "code",
   "execution_count": null,
   "id": "5d462980-00b2-47ca-96b1-9f3256fc5ca1",
   "metadata": {},
   "outputs": [],
   "source": [
    "if 'GA01SUMO' and 'R00002' and 'dcl11' in filepath:\n",
    "    nc_data = nc_data.where(nc_data['wspd'] < 24, drop=True)"
   ]
  },
  {
   "cell_type": "code",
   "execution_count": null,
   "id": "b137cecf-02b6-441f-bd0f-101a7f5e0188",
   "metadata": {
    "tags": []
   },
   "outputs": [],
   "source": [
    "# To calculate the median standard deviation, we are going to have to write our own function to apply to the grouped data.\n",
    "def msd(data, by, bins):\n",
    "    # First, group the data\n",
    "    grouped = data.groupby_bins(by, bins=bins)\n",
    "    med_dif = (grouped - grouped.median())**2\n",
    "\n",
    "    # Next, we need to group the data again\n",
    "    by = by + '_bins'\n",
    "    regrouped = med_dif.groupby(by)\n",
    "    \n",
    "    # Use those results to calculate the median standard deviation\n",
    "    med_std = np.sqrt(regrouped.mean())\n",
    "    \n",
    "    # Return the results - this is needed to get the result out of the function\n",
    "    return med_std"
   ]
  },
  {
   "cell_type": "code",
   "execution_count": null,
   "id": "af27eca8-6b29-4bc1-a360-909500a5a891",
   "metadata": {
    "tags": []
   },
   "outputs": [],
   "source": [
    "# Calculate the median standard deviation\n",
    "wvec_msd = msd(nc_data, by='wspd', bins=bins)['wvec']\n",
    "wvec_msd"
   ]
  },
  {
   "cell_type": "code",
   "execution_count": null,
   "id": "af54a304-52d8-4957-abf9-41ecbd190306",
   "metadata": {},
   "outputs": [],
   "source": [
    "nc_data"
   ]
  },
  {
   "cell_type": "markdown",
   "id": "8e7c5fbc-a770-4d72-8aeb-773c36adeb13",
   "metadata": {},
   "source": [
    "Yay! We now have all of the necessary data to reproduce the figure from the report 3305-000207. So lets do it."
   ]
  },
  {
   "cell_type": "code",
   "execution_count": null,
   "id": "0bccd807-a9d1-4f7d-9a19-f5d64e92902e",
   "metadata": {
    "tags": []
   },
   "outputs": [],
   "source": [
    "fig, ax = plt.subplots(figsize=(6, 6))\n",
    "\n",
    "# Create a one:one line\n",
    "x = np.arange(0, 31, 1)\n",
    "y = np.arange(0, 31, 1)\n",
    "\n",
    "# Plot the one:one line\n",
    "ax.plot(x, y, color=\"black\", linewidth=2)\n",
    "\n",
    "# Plot the comparison\n",
    "ax.plot(nc_data[\"wspd\"], nc_data[\"wvec\"], marker='o', linestyle='', color=\"red\", alpha=0.3) # Alpha controls transparency, 1=solid, 0=transparent\n",
    "\n",
    "# Plot the bins with error bars\n",
    "ax.errorbar(x=wspd_avg[0:len(wvec_msd)], y=wvec_avg[0:len(wvec_msd)], yerr=wvec_msd, fmt='o', linewidth=2, capsize=6)\n",
    "# Set some limits on the figure\n",
    "ax.set_xlim((0,25))\n",
    "ax.set_ylim((0,25))\n",
    "\n",
    "# Add in title, axis labels, and grid lines\n",
    "ax.set_title(f'{array} {node} Deployment {deployment}: S/N {nc_data.attrs[\"serial_number\"]}', fontsize=14) # f-strings are a way to substitute a variable into a string and have it print out\n",
    "ax.set_xlabel('2-axis Sonic Winds (m/s) Scalar', fontsize=12)\n",
    "ax.set_ylabel('2-axis Sonic Winds (m/s) VecAve', fontsize=12)\n",
    "ax.grid()"
   ]
  },
  {
   "cell_type": "code",
   "execution_count": null,
   "id": "2b38919b-9198-4054-9427-3fe07ab58563",
   "metadata": {},
   "outputs": [],
   "source": [
    "filename = filepath.split(\"\\\\\")[-1].replace('.mat','.png')\n",
    "filename = \"_\".join((array, node, 'deployment', deployment, filename))\n",
    "figurepath = \"../results/figures/\" +  filename\n",
    "figurepath"
   ]
  },
  {
   "cell_type": "code",
   "execution_count": null,
   "id": "b1aab2c9-a039-42ed-9d5b-7cef312bfc28",
   "metadata": {},
   "outputs": [],
   "source": [
    "fig.savefig(figurepath, facecolor=\"white\", transparent=False, edgecolor=\"black\", bbox_inches = \"tight\")"
   ]
  },
  {
   "cell_type": "markdown",
   "id": "970e213c-2f66-45e8-96cb-8238c8959f7b",
   "metadata": {},
   "source": [
    "### Get the deployment start times for each deployment and parse out orders of serial numbers"
   ]
  },
  {
   "cell_type": "code",
   "execution_count": null,
   "id": "acc009aa-c9b1-42a0-bff4-e50e31aded4d",
   "metadata": {},
   "outputs": [],
   "source": [
    "tracking = pd.read_excel(\"../data/modules/Wind_Sensor_module_tracking.xlsx\")\n",
    "tracking"
   ]
  },
  {
   "cell_type": "code",
   "execution_count": null,
   "id": "8ceeed25-6a1a-466e-ba68-280cb48ee647",
   "metadata": {},
   "outputs": [],
   "source": [
    "startTime = []\n",
    "for idx in tracking.index:\n",
    "    array = tracking.loc[idx, \"Platform\"]\n",
    "    node = \"DCL11\"\n",
    "    deployment = tracking.loc[idx, \"Deployment\"][1:].lstrip(\"0\")\n",
    "    t1, t2 = get_deployment_info(array, node, deployment)\n",
    "    startTime.append(t1)"
   ]
  },
  {
   "cell_type": "code",
   "execution_count": null,
   "id": "66e95be1-7127-468b-abe9-9ad8dba089c5",
   "metadata": {},
   "outputs": [],
   "source": [
    "tracking[\"deployStart\"] = startTime\n",
    "tracking"
   ]
  },
  {
   "cell_type": "code",
   "execution_count": null,
   "id": "888ad8f3-e15c-418d-90d7-d0d582f4ad90",
   "metadata": {},
   "outputs": [],
   "source": [
    "# Split the tracking\n",
    "tracking_1 = tracking[[\"Platform\", \"Deployment\", \"METBK1_WND\", \"Data Interpretation\", \"deployStart\"]]\n",
    "tracking_2 = tracking[[\"Platform\", \"Deployment\", \"METBK2_WND\", \"Data Interpretation.1\", \"deployStart\"]]"
   ]
  },
  {
   "cell_type": "code",
   "execution_count": null,
   "id": "44bdcacb-6f47-4305-8550-b3f3f71b628d",
   "metadata": {},
   "outputs": [],
   "source": [
    "tracking_1"
   ]
  },
  {
   "cell_type": "code",
   "execution_count": null,
   "id": "e8dc7ce8-1680-4e4a-875e-d6820941f977",
   "metadata": {},
   "outputs": [],
   "source": [
    "tracking_2.rename(columns={\"Data Interpretation.1\":\"Data Interpretation\"}, inplace=True)"
   ]
  },
  {
   "cell_type": "code",
   "execution_count": null,
   "id": "485bf524-5569-4e6e-9530-d944ed38c9fa",
   "metadata": {},
   "outputs": [],
   "source": [
    "tracking_1.rename(columns={\"METBK1_WND\":\"Serial Number\"}, inplace=True)\n",
    "tracking_2.rename(columns={\"METBK2_WND\":\"Serial Number\"}, inplace=True)"
   ]
  },
  {
   "cell_type": "code",
   "execution_count": null,
   "id": "ce0ec8a3-d04f-4e51-9599-ff152827c355",
   "metadata": {},
   "outputs": [],
   "source": [
    "tracking_1[\"DCL\"] = 11\n",
    "tracking_2[\"DCL\"] = 12"
   ]
  },
  {
   "cell_type": "code",
   "execution_count": null,
   "id": "95a1f8f7-e52a-4486-a951-db6f10788a78",
   "metadata": {},
   "outputs": [],
   "source": [
    "tracking = pd.concat([tracking_1, tracking_2], ignore_index=True)\n",
    "tracking"
   ]
  },
  {
   "cell_type": "code",
   "execution_count": null,
   "id": "b95209c3-4dbb-4787-b700-905307d2f827",
   "metadata": {},
   "outputs": [],
   "source": [
    "tracking.to_excel(\"../data/modules/Wind_Sensor_module_tracking.xlsx\", index=False)"
   ]
  },
  {
   "cell_type": "markdown",
   "id": "ee111836-6431-491f-821b-951cd91fe919",
   "metadata": {},
   "source": [
    "Now we want to save the above figure. We'll do this to the same directory where we have the netCDF file. First we'll specify the filepath and create a figure name."
   ]
  },
  {
   "cell_type": "markdown",
   "id": "f476ca21-f524-4a50-8b0c-d746a2f5773d",
   "metadata": {},
   "source": [
    "### Bad-Good-Bad Analysis: 233 and 243"
   ]
  },
  {
   "cell_type": "code",
   "execution_count": null,
   "id": "94d2d18f-a247-4e43-bef5-13a807e6f793",
   "metadata": {},
   "outputs": [],
   "source": [
    "nc_files = sorted(glob.glob('../data/modules/**/SWND243.nc', recursive=True))\n",
    "nc_files"
   ]
  },
  {
   "cell_type": "code",
   "execution_count": null,
   "id": "1bc90571-1b9e-478d-a902-5374aa6ae43a",
   "metadata": {},
   "outputs": [],
   "source": [
    "ossm243 = xr.open_dataset(nc_files[0]).load()\n",
    "gism243 = xr.open_dataset(nc_files[1]).load()\n",
    "gssm243 = xr.open_dataset(nc_files[2]).load()"
   ]
  },
  {
   "cell_type": "code",
   "execution_count": null,
   "id": "1e38fd08-49d8-4f10-98d1-176eca71c186",
   "metadata": {},
   "outputs": [],
   "source": [
    "# Clean up the deployment times\n",
    "t1, t2 = get_deployment_info('CP04OSSM', 'DCL11', 6)\n",
    "ossm243 = ossm243.sel(time=slice(t1,t2))\n",
    "\n",
    "t1, t2 = get_deployment_info('GS01SUMO', 'DCL11', 4)\n",
    "t2='2019-07-28T00:00:00'\n",
    "gssm243 = gssm243.sel(time=slice(t1, t2))\n",
    "\n",
    "t1, t2 = get_deployment_info('GI01SUMO', 'DCL11', 8)\n",
    "gism243 = gism243.sel(time=slice(t1, t2))"
   ]
  },
  {
   "cell_type": "code",
   "execution_count": null,
   "id": "5df8cd34-de7a-4c12-b28e-9b79d3c9051e",
   "metadata": {},
   "outputs": [],
   "source": [
    "def add_vector_wind(ds):\n",
    "    wvec = np.sqrt(ds[\"wnde\"]**2 + ds[\"wndn\"]**2)\n",
    "    # Add the calculated results\n",
    "    ds[\"wvec\"] = wvec\n",
    "    # Add some metadata so we can remember what we did\n",
    "    ds[\"wvec\"].attrs = {\n",
    "        'long_name': 'Vector Wind Speed',\n",
    "        'units': 'm/s',\n",
    "        'methodology': 'This is the magnitude of the east and north wind vectors'\n",
    "    }\n",
    "    return ds"
   ]
  },
  {
   "cell_type": "code",
   "execution_count": null,
   "id": "86bbe75a-5dc9-45d9-a43c-abbc595d4035",
   "metadata": {},
   "outputs": [],
   "source": [
    "ossm243 = add_vector_wind(ossm243)\n",
    "gism243 = add_vector_wind(gism243)\n",
    "gssm243 = add_vector_wind(gssm243)"
   ]
  },
  {
   "cell_type": "code",
   "execution_count": null,
   "id": "c4ad66d1-4222-48c3-94fd-204a091b12dd",
   "metadata": {},
   "outputs": [],
   "source": [
    "# First, create the bins we want to group the data into\n",
    "bins = np.arange(0, 31, 1)\n",
    "\n",
    "# OSSM6\n",
    "# Start with mean of wspd\n",
    "grouped = ossm243.groupby_bins(group='wspd', bins=bins)\n",
    "ossm243_wspd_avg = grouped.mean()['wspd'].dropna(dim='wspd_bins')\n",
    "\n",
    "# Next is the median of the vector wind speed\n",
    "ossm243_wvec_med = grouped.median()['wvec'].dropna(dim='wspd_bins')\n",
    "\n",
    "# Finally is the mean of the vector wind speed\n",
    "ossm243_wvec_avg = grouped.mean()['wvec'].dropna(dim='wspd_bins')\n",
    "\n",
    "# Calculate the median standard deviation\n",
    "ossm243_wvec_msd = msd(ossm243, by='wspd', bins=bins)['wvec']\n",
    "\n",
    "# gism8\n",
    "# Start with mean of wspd\n",
    "grouped = gism243.groupby_bins(group='wspd', bins=bins)\n",
    "gism243_wspd_avg = grouped.mean()['wspd'].dropna(dim='wspd_bins')\n",
    "\n",
    "# Next is the median of the vector wind speed\n",
    "gism243_wvec_med = grouped.median()['wvec'].dropna(dim='wspd_bins')\n",
    "\n",
    "# Finally is the mean of the vector wind speed\n",
    "gism243_wvec_avg = grouped.mean()['wvec'].dropna(dim='wspd_bins')\n",
    "\n",
    "# Calculate the median standard deviation\n",
    "gism243_wvec_msd = msd(gism243, by='wspd', bins=bins)['wvec']\n",
    "\n",
    "# gssm4\n",
    "# Start with mean of wspd\n",
    "grouped = gssm243.groupby_bins(group='wspd', bins=bins)\n",
    "gssm243_wspd_avg = grouped.mean()['wspd'].dropna(dim='wspd_bins')\n",
    "\n",
    "# Next is the median of the vector wind speed\n",
    "gssm243_wvec_med = grouped.median()['wvec'].dropna(dim='wspd_bins')\n",
    "\n",
    "# Finally is the mean of the vector wind speed\n",
    "gssm243_wvec_avg = grouped.mean()['wvec'].dropna(dim='wspd_bins')\n",
    "\n",
    "# Calculate the median standard deviation\n",
    "gssm243_wvec_msd = msd(gssm243, by='wspd', bins=bins)['wvec']"
   ]
  },
  {
   "cell_type": "code",
   "execution_count": null,
   "id": "7cc32c9f-79eb-49c6-8d43-37f3ebd9355a",
   "metadata": {},
   "outputs": [],
   "source": [
    "fig, (ax1, ax2, ax3) = plt.subplots(ncols=3, nrows=1, figsize=(18, 6), sharey=True)\n",
    "\n",
    "# Create a one:one line\n",
    "x = np.arange(0, 31, 1)\n",
    "y = np.arange(0, 31, 1)\n",
    "\n",
    "##### Plot the first figure\n",
    "# Plot the one:one line\n",
    "ax1.plot(x, y, color=\"black\", linewidth=2)\n",
    "\n",
    "# Plot the comparison\n",
    "ax1.plot(ossm243[\"wspd\"], ossm243[\"wvec\"], marker='o', linestyle='', color=\"red\", alpha=0.3) # Alpha controls transparency, 1=solid, 0=transparent\n",
    "\n",
    "# Plot the bins with error bars\n",
    "ax1.errorbar(x=ossm243_wspd_avg[0:len(ossm243_wvec_msd)], y=ossm243_wvec_avg[0:len(ossm243_wvec_msd)], yerr=ossm243_wvec_msd, fmt='o', linewidth=2, capsize=6)\n",
    "# Set some limits on the figure\n",
    "ax1.set_xlim((0,25))\n",
    "ax1.set_ylim((0,25))\n",
    "\n",
    "# Add in title, axis labels, and grid lines\n",
    "ax1.set_title(f'CP01OSSM Deployment 6 (2017-06-06): S/N {ossm243.attrs[\"serial_number\"]}', fontsize=14) # f-strings are a way to substitute a variable into a string and have it print out\n",
    "ax1.set_xlabel('2-axis Sonic Winds (m/s) Scalar', fontsize=12)\n",
    "ax1.set_ylabel('2-axis Sonic Winds (m/s) VecAve', fontsize=12)\n",
    "ax1.grid()\n",
    "\n",
    "##### Plot the second figure\n",
    "# Plot the one:one line\n",
    "ax2.plot(x, y, color=\"black\", linewidth=2)\n",
    "\n",
    "# Plot the comparison\n",
    "ax2.plot(gssm243[\"wspd\"], gssm243[\"wvec\"], marker='o', linestyle='', color=\"red\", alpha=0.3) # Alpha controls transparency, 1=solid, 0=transparent\n",
    "\n",
    "# Plot the bins with error bars\n",
    "ax2.errorbar(x=gssm243_wspd_avg[0:len(gssm243_wvec_msd)], y=gssm243_wvec_avg[0:len(gssm243_wvec_msd)], yerr=gssm243_wvec_msd, fmt='o', linewidth=2, capsize=6)\n",
    "# Set some limits on the figure\n",
    "ax2.set_xlim((0,25))\n",
    "ax2.set_ylim((0,25))\n",
    "\n",
    "# Add in title, axis labels, and grid lines\n",
    "ax2.set_title(f'GS01SUMO Deployment 4 (2018-12-04): S/N {gssm243.attrs[\"serial_number\"]}', fontsize=14) # f-strings are a way to substitute a variable into a string and have it print out\n",
    "ax2.set_xlabel('2-axis Sonic Winds (m/s) Scalar', fontsize=12)\n",
    "ax2.grid()\n",
    "\n",
    "\n",
    "##### Plot the third figure\n",
    "# Plot the one:one line\n",
    "ax3.plot(x, y, color=\"black\", linewidth=2)\n",
    "\n",
    "# Plot the comparison\n",
    "ax3.plot(gism243[\"wspd\"], gism243[\"wvec\"], marker='o', linestyle='', color=\"red\", alpha=0.3) # Alpha controls transparency, 1=solid, 0=transparent\n",
    "\n",
    "# Plot the bins with error bars\n",
    "ax3.errorbar(x=gism243_wspd_avg[0:len(gism243_wvec_msd)], y=gism243_wvec_avg[0:len(gism243_wvec_msd)], yerr=gism243_wvec_msd, fmt='o', linewidth=2, capsize=6)\n",
    "# Set some limits on the figure\n",
    "ax3.set_xlim((0,25))\n",
    "ax3.set_ylim((0,25))\n",
    "\n",
    "# Add in title, axis labels, and grid lines\n",
    "ax3.set_title(f'GI01SUMO Deployment 8 (2021-08-12): S/N {gism243.attrs[\"serial_number\"]}', fontsize=14) # f-strings are a way to substitute a variable into a string and have it print out\n",
    "ax3.set_xlabel('2-axis Sonic Winds (m/s) Scalar', fontsize=12)\n",
    "ax3.grid()"
   ]
  },
  {
   "cell_type": "code",
   "execution_count": null,
   "id": "d4ea4ed0-fee9-46fa-b96d-f1a074c32d9e",
   "metadata": {},
   "outputs": [],
   "source": [
    "fig.savefig(\"../results/SWND243_time_comparison.png\", facecolor=\"white\", transparent=False, bbox_inches=\"tight\", edgecolor=\"black\")"
   ]
  },
  {
   "cell_type": "code",
   "execution_count": null,
   "id": "9c5339d6-1df5-45f9-957c-d1ad35cf0457",
   "metadata": {},
   "outputs": [],
   "source": [
    "from scipy.stats import circmean, circstd"
   ]
  },
  {
   "cell_type": "code",
   "execution_count": null,
   "id": "3fcc6e31-1240-4ad1-9814-009c8532bae5",
   "metadata": {},
   "outputs": [],
   "source": [
    "def circular_stats(ds):\n",
    "    df = ds[\"compass\"].to_dataframe()\n",
    "    df = np.deg2rad(df)\n",
    "    rolling = df.rolling(pd.Timedelta('1h'))\n",
    "    avg = rolling.apply(circmean)\n",
    "    std = rolling.apply(circstd)\n",
    "    return avg, std"
   ]
  },
  {
   "cell_type": "code",
   "execution_count": null,
   "id": "2bfca987-bdcf-47c0-94dd-7b54eac01bb9",
   "metadata": {},
   "outputs": [],
   "source": [
    "gism243_avg, gism243_std = circular_stats(gism243)\n",
    "ossm243_avg, ossm243_std = circular_stats(ossm243)\n",
    "gssm243_avg, gssm243_std = circular_stats(gssm243)"
   ]
  },
  {
   "cell_type": "code",
   "execution_count": null,
   "id": "a87dd578-7e89-4734-871f-92b585858de8",
   "metadata": {},
   "outputs": [],
   "source": [
    "fig, (ax1, ax2, ax3) = plt.subplots(ncols=1, nrows=3, figsize=(18, 12))\n",
    "\n",
    "# Create a one:one line\n",
    "x = np.arange(0, 31, 1)\n",
    "y = np.arange(0, 31, 1)\n",
    "\n",
    "##### Plot the first figure\n",
    "# Plot the comparison\n",
    "ax1.plot(ossm243_std.index, ossm243_std[\"compass\"], marker='o', linestyle='', color=\"red\", alpha=0.3) # Alpha controls transparency, 1=solid, 0=transparent\n",
    "\n",
    "# Add in title, axis labels, and grid lines\n",
    "ax1.set_title(f'CP01OSSM Deployment 6 (2017-06-06): S/N {ossm243.attrs[\"serial_number\"]}', fontsize=14) # f-strings are a way to substitute a variable into a string and have it print out\n",
    "ax1.set_ylabel('Compass Standard Error', fontsize=12)\n",
    "ax1.grid()\n",
    "ax1.set_ylim(0, 4.0)\n",
    "\n",
    "##### Plot the second figure\n",
    "# Plot the comparison\n",
    "ax2.plot(gssm243_std.index, gssm243_std[\"compass\"], marker='o', linestyle='', color=\"red\", alpha=0.3) # Alpha controls transparency, 1=solid, 0=transparent\n",
    "\n",
    "# Add in title, axis labels, and grid lines\n",
    "ax2.set_title(f'GS01SUMO Deployment 4 (2018-12-04): S/N {gssm243.attrs[\"serial_number\"]}', fontsize=14) # f-strings are a way to substitute a variable into a string and have it print out\n",
    "ax2.grid()\n",
    "ax2.set_ylabel('Compass Standard Error')\n",
    "ax2.set_ylim(0, 4.0)\n",
    "\n",
    "\n",
    "##### Plot the third figure\n",
    "# Plot the comparison\n",
    "ax3.plot(gism243_std.index, gism243_std[\"compass\"], marker='o', linestyle='', color=\"red\", alpha=0.3) # Alpha controls transparency, 1=solid, 0=transparent\n",
    "\n",
    "# Add in title, axis labels, and grid lines\n",
    "ax3.set_title(f'GI01SUMO Deployment 8 (2021-08-12): S/N {gism243.attrs[\"serial_number\"]}', fontsize=14) # f-strings are a way to substitute a variable into a string and have it print out\n",
    "ax3.set_xlabel('Time', fontsize=12)\n",
    "ax3.set_ylabel('Compass Standard Error')\n",
    "ax3.grid()\n",
    "ax3.set_ylim(0, 4.0)\n"
   ]
  },
  {
   "cell_type": "code",
   "execution_count": null,
   "id": "e92d2cfe-89cf-4bb2-8457-45bd6de17ce4",
   "metadata": {},
   "outputs": [],
   "source": [
    "fig.savefig(\"../data/"
   ]
  },
  {
   "cell_type": "code",
   "execution_count": null,
   "id": "017c2fc5-3c96-40b6-af68-be311443fe12",
   "metadata": {},
   "outputs": [],
   "source": [
    "fig, (ax1, ax2, ax3) = plt.subplots(ncols=3, nrows=1, figsize=(18, 6), sharey=True)\n",
    "\n",
    "# \n",
    "bins = np.arange(0, 4.1, 0.1)\n",
    "\n",
    "\n",
    "##### Plot the first figure\n",
    "# Plot the one:one line\n",
    "hist, edges = np.histogram(ossm243_std[\"compass\"], bins=bins)\n",
    "freq = hist / float(hist.sum())\n",
    "width = np.diff(edges) # edges is bins\n",
    "ax1.bar(edges[1:], freq, width=width, align=\"edge\", ec=\"k\")\n",
    "\n",
    "# Add in title, axis labels, and grid lines\n",
    "ax1.set_title(f'CP01OSSM Deployment 6 (2017-06-06): S/N {ossm243.attrs[\"serial_number\"]}', fontsize=14) # f-strings are a way to substitute a variable into a string and have it print out\n",
    "ax1.set_xlabel('Compass Standard Error\\n1-hour rolling', fontsize=12)\n",
    "ax1.set_ylabel('Frequency', fontsize=12)\n",
    "ax1.grid()\n",
    "\n",
    "##### Plot the second figure\n",
    "# Plot the one:one line\n",
    "hist, edges = np.histogram(gssm243_std[\"compass\"], bins=bins)\n",
    "freq = hist / float(hist.sum())\n",
    "width = np.diff(edges) # edges is bins\n",
    "ax2.bar(edges[1:], freq, width=width, align=\"edge\", ec=\"k\")\n",
    "\n",
    "# Add in title, axis labels, and grid lines\n",
    "ax2.set_title(f'GS01SUMO Deployment 4 (2018-12-04): S/N {gssm243.attrs[\"serial_number\"]}', fontsize=14) # f-strings are a way to substitute a variable into a string and have it print out\n",
    "ax2.set_xlabel('Compass Standard Error\\n1-hour rolling', fontsize=12)\n",
    "ax2.grid()\n",
    "\n",
    "\n",
    "##### Plot the third figure\n",
    "# Plot the one:one line\n",
    "hist, edges = np.histogram(gism243_std[\"compass\"], bins=bins)\n",
    "freq = hist / float(hist.sum())\n",
    "width = np.diff(edges) # edges is bins\n",
    "ax3.bar(edges[1:], freq, width=width, align=\"edge\", ec=\"k\")\n",
    "\n",
    "# Add in title, axis labels, and grid lines\n",
    "ax3.set_title(f'GI01SUMO Deployment 8 (2021-08-12): S/N {gism243.attrs[\"serial_number\"]}', fontsize=14) # f-strings are a way to substitute a variable into a string and have it print out\n",
    "ax3.set_xlabel('Compass Standard Error\\n1-hour rolling', fontsize=12)\n",
    "ax3.grid()"
   ]
  },
  {
   "cell_type": "markdown",
   "id": "2f3c47fe-fe8e-41f4-829f-1dace5f63704",
   "metadata": {},
   "source": [
    "### Get MOPAK compass data"
   ]
  },
  {
   "cell_type": "code",
   "execution_count": null,
   "id": "9dd321c9-c072-4ca0-ae7f-5c09e451853d",
   "metadata": {},
   "outputs": [],
   "source": [
    "from erddapy import ERDDAP"
   ]
  },
  {
   "cell_type": "code",
   "execution_count": null,
   "id": "6f65c03e-1846-4b4e-a1c1-3b0249638ca5",
   "metadata": {},
   "outputs": [],
   "source": [
    "oms = ERDDAP(\n",
    "    server=\"https://cgsn-dashboard.whoi.edu/erddap/\",\n",
    "    protocol=\"tabledap\",\n",
    ")"
   ]
  },
  {
   "cell_type": "code",
   "execution_count": null,
   "id": "c0ee66df-756a-4329-9ba1-a7a0804ce1b8",
   "metadata": {},
   "outputs": [],
   "source": [
    "search_url = oms.get_search_url(response=\"csv\")\n",
    "search = pd.read_csv(search_url)\n",
    "datasets = search[\"Dataset ID\"]\n",
    "datasets"
   ]
  },
  {
   "cell_type": "code",
   "execution_count": null,
   "id": "55cfd72d-aa97-4616-a994-ce839eefd9a0",
   "metadata": {},
   "outputs": [],
   "source": [
    "mask = datasets.apply(lambda x: True if 'MOPAK' in x else False)\n",
    "datasets[mask]"
   ]
  },
  {
   "cell_type": "code",
   "execution_count": null,
   "id": "6dc47e94-e149-4f08-8283-12674a217694",
   "metadata": {},
   "outputs": [],
   "source": [
    "t1, t2 = get_deployment_info('GS01SUMO', 'SBD11', 4)\n",
    "t1, t2"
   ]
  },
  {
   "cell_type": "code",
   "execution_count": null,
   "id": "50cbbc08-32f7-4df6-b571-9eb7bd3458ee",
   "metadata": {},
   "outputs": [],
   "source": [
    "oms.dataset_id = \"GS01SUMO-BUOY-MOPAK-01-1\"\n",
    "oms.constraints = {\n",
    "    \"deploy_id=\": \"D0004\",\n",
    "    \"time>=\": '2018-12-04T17:10:40',\n",
    "    \"time<=\": '2020-01-20T10:01:00'\n",
    "}"
   ]
  },
  {
   "cell_type": "code",
   "execution_count": null,
   "id": "e0ab1bc7-325d-42b5-8664-cb50216d2fa7",
   "metadata": {},
   "outputs": [],
   "source": [
    "gs01sumo_mopak = oms.to_pandas(index_col='time (UTC)', parse_dates=True)\n"
   ]
  },
  {
   "cell_type": "code",
   "execution_count": null,
   "id": "e6170d4f-ae9d-42ef-9b8e-9a10b5058067",
   "metadata": {},
   "outputs": [],
   "source": []
  },
  {
   "cell_type": "code",
   "execution_count": null,
   "id": "b4d3e53e-8d15-4e30-94e9-ea17d5734dea",
   "metadata": {},
   "outputs": [],
   "source": [
    "fig.savefig(\"../results/SWND243_compass_error_histogram.png\", facecolor=\"white\", transparent=False, edgecolor=\"black\", bbox_inches=\"tight\")"
   ]
  },
  {
   "cell_type": "code",
   "execution_count": null,
   "id": "56ada209-233b-483b-881f-09977c45fbde",
   "metadata": {},
   "outputs": [],
   "source": []
  },
  {
   "cell_type": "code",
   "execution_count": null,
   "id": "f697ebd1-91bb-469d-a629-73075cb226d1",
   "metadata": {},
   "outputs": [],
   "source": [
    "np."
   ]
  },
  {
   "cell_type": "code",
   "execution_count": null,
   "id": "f5736cdd-4231-4135-83a4-0f121a988082",
   "metadata": {},
   "outputs": [],
   "source": [
    "gssm243[\"compass\"].to_dataframe()"
   ]
  },
  {
   "cell_type": "code",
   "execution_count": null,
   "id": "d7704c97-93ae-499a-ae99-01df1eae44f6",
   "metadata": {},
   "outputs": [],
   "source": [
    "# Repeat for 233\n",
    "nc_files = sorted(glob.glob('../data/modules/**/SWND233.nc', recursive=True))\n",
    "nc_files"
   ]
  },
  {
   "cell_type": "code",
   "execution_count": null,
   "id": "97ca4af0-251b-4767-9e1e-67fdcb2bbe5e",
   "metadata": {},
   "outputs": [],
   "source": [
    "cnsm7 = xr.open_dataset(nc_files[0])\n",
    "gism8 = xr.open_dataset(nc_files[1])\n",
    "gssm4 = xr.open_dataset(nc_files[2])"
   ]
  },
  {
   "cell_type": "code",
   "execution_count": null,
   "id": "13c71250-1b3b-4080-acd2-9255c3684f11",
   "metadata": {},
   "outputs": [],
   "source": [
    "cnsm7 = add_vector_wind(cnsm7)\n",
    "gism8 = add_vector_wind(gism8)\n",
    "gssm4 = add_vector_wind(gssm4)"
   ]
  },
  {
   "cell_type": "code",
   "execution_count": null,
   "id": "0c4c80b7-871f-4e19-8636-43593f1876fd",
   "metadata": {},
   "outputs": [],
   "source": [
    "cnsm7 = cnsm7.load()\n",
    "gism8 = gism8.load()\n",
    "gssm4 = gssm4.load()"
   ]
  },
  {
   "cell_type": "code",
   "execution_count": null,
   "id": "0d1a65c4-95a3-443a-a73d-2a4dc1d81058",
   "metadata": {},
   "outputs": [],
   "source": [
    "fig, (ax1, ax2, ax3) = plt.subplots(ncols=3, nrows=1, figsize=(18, 6), sharey=True)\n",
    "\n",
    "# Create a one:one line\n",
    "x = np.arange(0, 31, 1)\n",
    "y = np.arange(0, 31, 1)\n",
    "\n",
    "##### Plot the first figure\n",
    "# Plot the one:one line\n",
    "ax1.plot(x, y, color=\"black\", linewidth=2)\n",
    "\n",
    "# Plot the comparison\n",
    "ax1.plot(cnsm7[\"wspd\"], cnsm7[\"wvec\"], marker='o', linestyle='', color=\"red\", alpha=0.3) # Alpha controls transparency, 1=solid, 0=transparent\n",
    "\n",
    "# Plot the bins with error bars\n",
    "ax1.errorbar(x=cnsm7_wspd_avg[0:len(cnsm7_wvec_msd)], y=cnsm7_wvec_avg[0:len(cnsm7_wvec_msd)], yerr=cnsm7_wvec_msd, fmt='o', linewidth=2, capsize=6)\n",
    "# Set some limits on the figure\n",
    "ax1.set_xlim((0,25))\n",
    "ax1.set_ylim((0,25))\n",
    "\n",
    "# Add in title, axis labels, and grid lines\n",
    "ax1.set_title(f'CP01CNSM Deployment 7 (2017-06-09): S/N {cnsm7.attrs[\"serial_number\"]}', fontsize=14) # f-strings are a way to substitute a variable into a string and have it print out\n",
    "ax1.set_xlabel('2-axis Sonic Winds (m/s) Scalar', fontsize=12)\n",
    "ax1.set_ylabel('2-axis Sonic Winds (m/s) VecAve', fontsize=12)\n",
    "ax1.grid()\n",
    "\n",
    "##### Plot the second figure\n",
    "# Plot the one:one line\n",
    "ax2.plot(x, y, color=\"black\", linewidth=2)\n",
    "\n",
    "# Plot the comparison\n",
    "ax2.plot(gssm4[\"wspd\"], gssm4[\"wvec\"], marker='o', linestyle='', color=\"red\", alpha=0.3) # Alpha controls transparency, 1=solid, 0=transparent\n",
    "\n",
    "# Plot the bins with error bars\n",
    "ax2.errorbar(x=gssm4_wspd_avg[0:len(gssm4_wvec_msd)], y=gssm4_wvec_avg[0:len(gssm4_wvec_msd)], yerr=gssm4_wvec_msd, fmt='o', linewidth=2, capsize=6)\n",
    "# Set some limits on the figure\n",
    "ax2.set_xlim((0,25))\n",
    "ax2.set_ylim((0,25))\n",
    "\n",
    "# Add in title, axis labels, and grid lines\n",
    "ax2.set_title(f'GS01SUMO Deployment 4 (2018-12-04): S/N {gssm4.attrs[\"serial_number\"]}', fontsize=14) # f-strings are a way to substitute a variable into a string and have it print out\n",
    "ax2.set_xlabel('2-axis Sonic Winds (m/s) Scalar', fontsize=12)\n",
    "ax2.grid()\n",
    "\n",
    "\n",
    "##### Plot the third figure\n",
    "# Plot the one:one line\n",
    "ax3.plot(x, y, color=\"black\", linewidth=2)\n",
    "\n",
    "# Plot the comparison\n",
    "ax3.plot(gism8[\"wspd\"], gism8[\"wvec\"], marker='o', linestyle='', color=\"red\", alpha=0.3) # Alpha controls transparency, 1=solid, 0=transparent\n",
    "\n",
    "# Plot the bins with error bars\n",
    "ax3.errorbar(x=gism8_wspd_avg[0:len(gism8_wvec_msd)], y=gism8_wvec_avg[0:len(gism8_wvec_msd)], yerr=gism8_wvec_msd, fmt='o', linewidth=2, capsize=6)\n",
    "# Set some limits on the figure\n",
    "ax3.set_xlim((0,25))\n",
    "ax3.set_ylim((0,25))\n",
    "\n",
    "# Add in title, axis labels, and grid lines\n",
    "ax3.set_title(f'GI01SUMO Deployment 8 (2021-08-12): S/N {gism8.attrs[\"serial_number\"]}', fontsize=14) # f-strings are a way to substitute a variable into a string and have it print out\n",
    "ax3.set_xlabel('2-axis Sonic Winds (m/s) Scalar', fontsize=12)\n",
    "ax3.grid()"
   ]
  },
  {
   "cell_type": "code",
   "execution_count": null,
   "id": "1606b9b6-c482-4da8-aadd-dca1968d2e61",
   "metadata": {},
   "outputs": [],
   "source": [
    "fig.savefig(\"../results/SWND233_time_comparison.png\", facecolor=\"white\", transparent=False, bbox_inches=\"tight\", edgecolor=\"black\")"
   ]
  },
  {
   "cell_type": "code",
   "execution_count": null,
   "id": "8bdc45a9-acca-43d2-8a4e-ac93f6f33f4f",
   "metadata": {},
   "outputs": [],
   "source": [
    "# Read in the data\n",
    "# Record data:        hr min sec day dow mon year wnde wndn wspd spdmax lxydir compass tiltx tilty svel temp end\n",
    "#        bytes:       1  1   1   1   1   1   2    2    2    1    1      2      2       1     1     4    4    4\n",
    "#        format:      B  B   B   B   B   B   <H   <h   <h   B    B      <h     <h      b     b     <f   <f   "
   ]
  },
  {
   "cell_type": "code",
   "execution_count": null,
   "id": "22d558aa-8099-42ac-9002-c736af5c5388",
   "metadata": {},
   "outputs": [],
   "source": []
  },
  {
   "cell_type": "code",
   "execution_count": null,
   "id": "6323e9bd-df1e-482f-9d1d-66ab1519e1c9",
   "metadata": {},
   "outputs": [],
   "source": []
  },
  {
   "cell_type": "code",
   "execution_count": null,
   "id": "e2736cd1-0b81-4302-bf85-db4dd59e98d7",
   "metadata": {},
   "outputs": [],
   "source": []
  }
 ],
 "metadata": {
  "kernelspec": {
   "display_name": "Python 3 (ipykernel)",
   "language": "python",
   "name": "python3"
  },
  "language_info": {
   "codemirror_mode": {
    "name": "ipython",
    "version": 3
   },
   "file_extension": ".py",
   "mimetype": "text/x-python",
   "name": "python",
   "nbconvert_exporter": "python",
   "pygments_lexer": "ipython3",
   "version": "3.12.3"
  }
 },
 "nbformat": 4,
 "nbformat_minor": 5
}
